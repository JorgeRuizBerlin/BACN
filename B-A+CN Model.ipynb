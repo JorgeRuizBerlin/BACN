{
 "cells": [
  {
   "cell_type": "code",
   "execution_count": null,
   "metadata": {
    "nbpresent": {
     "id": "b451cd6d-9033-49d7-a2ed-d80fe70be4d8"
    }
   },
   "outputs": [],
   "source": [
    "import numpy as np\n",
    "import matplotlib.pyplot as plt\n",
    "from sklearn.metrics import precision_recall_curve, roc_curve, auc\n",
    "import networkx as nx"
   ]
  },
  {
   "cell_type": "code",
   "execution_count": null,
   "metadata": {},
   "outputs": [],
   "source": [
    "# Command to use the full widht of the screen\n",
    "#from IPython.core.display import display, HTML\n",
    "#display(HTML(\"<style>.container { width:100% !important; }/style>\"))"
   ]
  },
  {
   "cell_type": "code",
   "execution_count": null,
   "metadata": {
    "nbpresent": {
     "id": "3e966a73-8e4b-48a7-9e93-a2f43c50b00a"
    }
   },
   "outputs": [],
   "source": [
    "def BACN(init_nodes, final_nodes, m_param, l_param=0, CN=False, DIR=False, Initial_Connectivity='all'):\n",
    "    assert init_nodes > 1\n",
    "    assert init_nodes < final_nodes\n",
    "    assert init_nodes >= m_param\n",
    "    assert l_param >= 0\n",
    "\n",
    "    #INITIAL NETWORK:\n",
    "    A = np.zeros((final_nodes, final_nodes))\n",
    "    if Initial_Connectivity == 'all': #all-to-all\n",
    "        for i in range(init_nodes):\n",
    "            for j in range(i+1, init_nodes):\n",
    "                A[i,j] = A[j,i] = 1\n",
    "    elif Initial_Connectivity == 'my_random': #i.e. \"random\"\n",
    "        for i in range(init_nodes):\n",
    "            for j in range(i+1, init_nodes):\n",
    "                A[i,j] = A[j,i] = int(np.random.random()+0.5)\n",
    "            print(i, \"A[i]\", A[i])\n",
    "            if not A[i].any() != 0:\n",
    "                if i+1 != init_nodes: #helpful if the last row is still full of zeroes\n",
    "                    print(\"if\")\n",
    "                    rand_column = np.random.choice(range(i+1, init_nodes))\n",
    "                    print(range(i+1, init_nodes))\n",
    "                else:\n",
    "                    print(\"else\")\n",
    "                    rand_column = np.random.choice(range(i))\n",
    "                    print(range(i))\n",
    "                print(\"rand_column\", rand_column)\n",
    "                A[i, rand_column] = A[rand_column, i] = 1\n",
    "    elif Initial_Connectivity == 'regular_2':\n",
    "        init_deg = 2\n",
    "        G = nx.random_regular_graph(init_deg, init_nodes)\n",
    "        for e in G.edges():\n",
    "            A[e[0],e[1]] = A[e[1],e[0]] = 1\n",
    "    \n",
    "    #NETWORK EVOLUTION:\n",
    "    for i in range(init_nodes, final_nodes):\n",
    "        if DIR:\n",
    "            p_deg_source = np.sum(A[:i,:], axis=1)\n",
    "            p_deg_source /= np.sum(p_deg_source)\n",
    "            p_deg_target = np.sum(A[:,:i], axis=0)\n",
    "            p_deg_target /= np.sum(p_deg_target)\n",
    "            rand_source = np.random.choice(i, size=m_param, p=p_deg_source, replace=False)\n",
    "            A[rand_source, i] = 1\n",
    "            rand_target = np.random.choice(i, size=m_param, p=p_deg_target, replace=False)\n",
    "            A[i, rand_target] = 1\n",
    "        else:\n",
    "            p_deg = np.sum(A, axis=1)[:i]\n",
    "            p_deg /= np.sum(p_deg)\n",
    "            rand_node = np.random.choice(i, size=m_param, p=p_deg, replace=False)\n",
    "            A[i, rand_node] = A[rand_node, i] = 1\n",
    "        if CN and l_param > 0:\n",
    "            S = A[:i+1,:i+1]\n",
    "            cn_mat = S @ S\n",
    "            S[np.eye(S.shape[0], dtype=bool)] = -1\n",
    "            missing = np.nonzero(S==0)\n",
    "            if DIR==False:\n",
    "                #only upper triangle of adjacency matrix:\n",
    "                missing = (missing[0][missing[0]<missing[1]], missing[1][missing[0]<missing[1]])\n",
    "            if missing[0].size != 0:\n",
    "                p_cn = cn_mat[missing]\n",
    "                p_cn /= np.sum(p_cn)\n",
    "                if np.isnan(p_cn).all():\n",
    "                    if l_param < missing[0].size:\n",
    "                        rand_edge = np.random.choice(missing[0].size, size=l_param, replace=False)\n",
    "                    else:\n",
    "                        rand_edge = range(missing[0].size)\n",
    "                else:\n",
    "                    if l_param > np.count_nonzero(p_cn):\n",
    "                        rand_edge = np.random.choice(missing[0].size, size=np.count_nonzero(p_cn), p=p_cn, replace=False)\n",
    "                    else:\n",
    "                        rand_edge = np.random.choice(missing[0].size, size=l_param, p=p_cn, replace=False)\n",
    "                a = missing[0][rand_edge]\n",
    "                b = missing[1][rand_edge]\n",
    "                if DIR:\n",
    "                    A[a,b] =  1\n",
    "                else:\n",
    "                    A[a,b] = A[b,a] = 1\n",
    "            S[np.eye(S.shape[0], dtype=bool)] = 0\n",
    "    return A"
   ]
  },
  {
   "cell_type": "code",
   "execution_count": null,
   "metadata": {
    "nbpresent": {
     "id": "2d20f92b-74c3-461a-89ea-91c69b96f68a"
    },
    "scrolled": false
   },
   "outputs": [],
   "source": [
    "testBACN = BACN(2,6,1,0,CN=True,DIR=True,Initial_Connectivity='all')\n",
    "testBACN"
   ]
  },
  {
   "cell_type": "code",
   "execution_count": null,
   "metadata": {},
   "outputs": [],
   "source": [
    "np.array_equal(testBACN, testBACN.T)"
   ]
  },
  {
   "cell_type": "code",
   "execution_count": null,
   "metadata": {},
   "outputs": [],
   "source": [
    "def cns_number(x, links):\n",
    "    c_m = x@x\n",
    "    cn = c_m[links[:,0], links[:,1]]\n",
    "    return cn"
   ]
  },
  {
   "cell_type": "code",
   "execution_count": null,
   "metadata": {},
   "outputs": [],
   "source": [
    "def get_links_to_del(x, fraction=0.1, loops=1, DIR=False):\n",
    "    if DIR:\n",
    "        present = np.argwhere(x)\n",
    "    else:\n",
    "        present = np.argwhere(np.triu(x, 1) != 0)#== 1)\n",
    "    num_to_del = int(present.shape[0] * fraction)\n",
    "    idx_to_del = [np.random.choice(present.shape[0], size=num_to_del, replace=False) for i in range(loops)]\n",
    "    links_to_del = np.array([present[idx] for idx in idx_to_del])\n",
    "    return links_to_del"
   ]
  },
  {
   "cell_type": "code",
   "execution_count": null,
   "metadata": {},
   "outputs": [],
   "source": [
    "def delete_links(x, links_to_del, DIR=False):\n",
    "    \"\"\"Deletes the specified links from an adjacency matrix.\"\"\"\n",
    "    z = np.copy(x)\n",
    "    for link in links_to_del:\n",
    "        if DIR:\n",
    "            z[link[0], link[1]] = 0\n",
    "        else:\n",
    "            z[link[0], link[1]] = z[link[1], link[0]] = 0\n",
    "    return z"
   ]
  },
  {
   "cell_type": "code",
   "execution_count": null,
   "metadata": {},
   "outputs": [],
   "source": [
    "def evaluate_predictions(true, pred, plot=False):\n",
    "    precision, recall, _ = precision_recall_curve(true, pred)\n",
    "    fpr, tpr, _ = roc_curve(true, pred)\n",
    "    aupr = auc(recall, precision)\n",
    "    auroc = auc(fpr, tpr)\n",
    "    if plot:\n",
    "        fig, ax = plt.subplots()\n",
    "        ax.plot(recall, precision, 'go', label='Precision-Recall curve')\n",
    "        ax.plot(fpr, tpr, '.', label='ROC curve')\n",
    "        plt.legend()\n",
    "        plt.show()\n",
    "    return aupr, auroc"
   ]
  },
  {
   "cell_type": "code",
   "execution_count": null,
   "metadata": {},
   "outputs": [],
   "source": [
    "def cross_val_from_notebook(adjacency, links_to_del, loops=1, DIR=False, raw_output=False, verbose=False):\n",
    "    if raw_output:\n",
    "        scores_list = []\n",
    "        true_list = []\n",
    "    else:\n",
    "        results = np.zeros((loops, 2))\n",
    "    for i in range(loops):\n",
    "        #print(\"Loop:\", i)\n",
    "        if verbose:\n",
    "            print('Trial {} of {}'.format(i+1, loops))\n",
    "        x_ = delete_links(adjacency, links_to_del[i], DIR)\n",
    "        missing_initial = np.argwhere(x_ == 0)\n",
    "        #print(\"missing_initial\", missing_initial, missing_initial.shape[0])\n",
    "        missing_final = np.array([list(row) for row in missing_initial if row[0]!=row[1]]) #exclude the diagonal terms\n",
    "        #print(\"missing_final\", missing_final, missing_final.shape[0])\n",
    "        if missing_final.shape[0] > 0:\n",
    "            true_present = adjacency[missing_final[:,0], missing_final[:,1]]\n",
    "            scores = cns_number(x_, missing_final)\n",
    "            if False:#true_present.any():\n",
    "                print(\"\\n\")\n",
    "                #print(adjacency)\n",
    "                #print(x_)\n",
    "                #print(\"missing_initial:\")\n",
    "                #print(missing_initial, missing_initial.shape[0])\n",
    "                #print(\"missing_final:\")\n",
    "                #print(missing_final, missing_final.shape[0])\n",
    "                #print(\"true_present\", true_present)\n",
    "                #print(\"scores\", scores)\n",
    "            if raw_output:\n",
    "                true_list.append(true_present)\n",
    "                scores_list.append(scores)\n",
    "            else:\n",
    "                results[i] = evaluate_predictions(true_present, scores, plot=plot)\n",
    "                #if not np.isnan(results[i]).any():\n",
    "                #    print(\"results[i]\", results[i])\n",
    "        else:\n",
    "            print(\"WTF?\")\n",
    "            break\n",
    "    if raw_output:\n",
    "        return np.array(true_list).flatten(), np.asarray(scores_list).flatten()\n",
    "    else:\n",
    "        #print(\"results\")\n",
    "        #print(results)\n",
    "        return results"
   ]
  },
  {
   "cell_type": "code",
   "execution_count": null,
   "metadata": {},
   "outputs": [],
   "source": [
    "def running_all_parameters(init_nodes, final_nodes, l, fraction, loops, CN, DIR, Initial_Connectivity):\n",
    "    areas_under_curves = np.zeros((init_nodes+1, 2))\n",
    "    for m in range(init_nodes+1):\n",
    "        B = BACN(init_nodes, final_nodes, m, l, CN, DIR, Initial_Connectivity)\n",
    "        links_to_del = get_links_to_del(B, fraction, loops, DIR)\n",
    "        r1 = cross_val_from_notebook(B, links_to_del, loops, DIR)\n",
    "        areas_under_curves[m,:] = np.mean(r1, axis=0)\n",
    "    return areas_under_curves"
   ]
  },
  {
   "cell_type": "code",
   "execution_count": null,
   "metadata": {},
   "outputs": [],
   "source": [
    "init_nodes=7\n",
    "final_nodes=100\n",
    "m=1\n",
    "l=5\n",
    "CN=True\n",
    "DIR=False\n",
    "fraction=0.1\n",
    "loops=10\n",
    "B = BACN(init_nodes, final_nodes, m, l, CN, DIR)\n",
    "links_to_del = get_links_to_del(B, fraction, loops, DIR)\n",
    "r1 = cross_val_from_notebook(B, links_to_del, loops, DIR)\n",
    "print(np.mean(r1, axis=0))"
   ]
  },
  {
   "cell_type": "code",
   "execution_count": null,
   "metadata": {},
   "outputs": [],
   "source": [
    "def ploting_all_parameters(initial, final, lmax, fraction, loops, CN, DIR, Initial_Connectivity):\n",
    "    for i in range(initial, final):\n",
    "        #print(\"\\n\")\n",
    "        #print(\"initial number of nodes:\", i)\n",
    "        plt.figure(figsize=(20,3))\n",
    "        for j in range(1, lmax+1):\n",
    "            #print(\"CN-parameter:\", j)\n",
    "            a_u_c = running_all_parameters(i, final, j-1, fraction, loops, CN, DIR, Initial_Connectivity)\n",
    "            plt.subplot(1,lmax,j)\n",
    "            plt.title(\"I:{}, f:{}\\nCN:{}\".format(i, final, j-1))\n",
    "            plt.xlabel(\"m\")\n",
    "            plt.ylim([0, 1])\n",
    "            plt.plot(a_u_c[:,0], 'bx--', label='AUPR')\n",
    "            plt.plot(a_u_c[:,1], 'ro--', label='AUROC')\n",
    "            #plt.legend()\n",
    "        plt.show()"
   ]
  },
  {
   "cell_type": "code",
   "execution_count": null,
   "metadata": {
    "scrolled": false
   },
   "outputs": [],
   "source": [
    "ploting_all_parameters(initial=30, final=35, lmax=10, fraction=0.1, loops=10, CN=True, DIR=False, Initial_Connectivity='regular_2')"
   ]
  },
  {
   "cell_type": "code",
   "execution_count": null,
   "metadata": {},
   "outputs": [],
   "source": []
  },
  {
   "cell_type": "code",
   "execution_count": null,
   "metadata": {},
   "outputs": [],
   "source": []
  },
  {
   "cell_type": "code",
   "execution_count": null,
   "metadata": {},
   "outputs": [],
   "source": []
  },
  {
   "cell_type": "code",
   "execution_count": null,
   "metadata": {},
   "outputs": [],
   "source": []
  },
  {
   "cell_type": "code",
   "execution_count": null,
   "metadata": {},
   "outputs": [],
   "source": []
  },
  {
   "cell_type": "code",
   "execution_count": null,
   "metadata": {},
   "outputs": [],
   "source": []
  },
  {
   "cell_type": "code",
   "execution_count": null,
   "metadata": {},
   "outputs": [],
   "source": []
  },
  {
   "cell_type": "code",
   "execution_count": null,
   "metadata": {},
   "outputs": [],
   "source": []
  },
  {
   "cell_type": "code",
   "execution_count": null,
   "metadata": {},
   "outputs": [],
   "source": []
  },
  {
   "cell_type": "code",
   "execution_count": null,
   "metadata": {},
   "outputs": [],
   "source": [
    "G = nx.random_regular_graph(2, 10)\n",
    "G.edges()"
   ]
  },
  {
   "cell_type": "code",
   "execution_count": null,
   "metadata": {},
   "outputs": [],
   "source": [
    "GG = np.array(nx.adjacency_matrix(G).todense())\n",
    "GG"
   ]
  },
  {
   "cell_type": "code",
   "execution_count": null,
   "metadata": {},
   "outputs": [],
   "source": [
    "nx.draw(G, pos=nx.spring_layout(G))"
   ]
  },
  {
   "cell_type": "code",
   "execution_count": null,
   "metadata": {},
   "outputs": [],
   "source": [
    "[edge for edge in G.edges()]"
   ]
  },
  {
   "cell_type": "code",
   "execution_count": null,
   "metadata": {},
   "outputs": [],
   "source": [
    "for e in G.edges():\n",
    "    print(e)"
   ]
  },
  {
   "cell_type": "code",
   "execution_count": null,
   "metadata": {},
   "outputs": [],
   "source": [
    "init_deg = 2\n",
    "init_nodes = 5\n",
    "final_nodes = 7\n",
    "AA = np.zeros((final_nodes, final_nodes))\n",
    "print(AA)\n",
    "G = nx.random_regular_graph(init_deg, init_nodes)\n",
    "for e in G.edges():\n",
    "    AA[e[0],e[1]] = AA[e[1],e[0]] = 1\n",
    "print(AA)"
   ]
  },
  {
   "cell_type": "code",
   "execution_count": null,
   "metadata": {},
   "outputs": [],
   "source": []
  }
 ],
 "metadata": {
  "anaconda-cloud": {},
  "kernelspec": {
   "display_name": "Python 3",
   "language": "python",
   "name": "python3"
  },
  "language_info": {
   "codemirror_mode": {
    "name": "ipython",
    "version": 3
   },
   "file_extension": ".py",
   "mimetype": "text/x-python",
   "name": "python",
   "nbconvert_exporter": "python",
   "pygments_lexer": "ipython3",
   "version": "3.6.9"
  }
 },
 "nbformat": 4,
 "nbformat_minor": 2
}
