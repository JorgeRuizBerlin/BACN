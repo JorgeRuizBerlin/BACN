{
 "cells": [
  {
   "cell_type": "code",
   "execution_count": 1,
   "metadata": {
    "nbpresent": {
     "id": "b451cd6d-9033-49d7-a2ed-d80fe70be4d8"
    }
   },
   "outputs": [],
   "source": [
    "import numpy as np\n",
    "import matplotlib.pyplot as plt\n",
    "import time\n",
    "from sklearn.metrics import precision_recall_curve, roc_curve, auc"
   ]
  },
  {
   "cell_type": "code",
   "execution_count": 2,
   "metadata": {},
   "outputs": [],
   "source": [
    "# Command to use the full widht of the screen\n",
    "#from IPython.core.display import display, HTML\n",
    "#display(HTML(\"<style>.container { width:100% !important; }/style>\"))"
   ]
  },
  {
   "cell_type": "code",
   "execution_count": 7,
   "metadata": {
    "nbpresent": {
     "id": "3e966a73-8e4b-48a7-9e93-a2f43c50b00a"
    }
   },
   "outputs": [],
   "source": [
    "def BACN(init_nodes, final_nodes, m_param, l_param=0, CN=False, DIR=False):\n",
    "    assert init_nodes > 1\n",
    "    assert init_nodes < final_nodes\n",
    "    assert init_nodes >= m_param\n",
    "    assert l_param >= 0\n",
    "    start = time.time()\n",
    "    A = np.zeros((final_nodes, final_nodes)) \n",
    "    for i in range(init_nodes):\n",
    "        for j in range(i+1, init_nodes):\n",
    "            A[i,j] = 1\n",
    "            A[j,i] = 1\n",
    "    for i in range(init_nodes, final_nodes):\n",
    "        if DIR:\n",
    "            p_deg_target = np.sum(A[:i,:], axis=1)\n",
    "            p_deg_target /= np.sum(p_deg_target)\n",
    "            p_deg_source = np.sum(A[:,:i], axis=0)\n",
    "            p_deg_source /= np.sum(p_deg_source)\n",
    "            rand_target = np.random.choice(i, size=m_param, p=p_deg_target, replace=False)\n",
    "            A[rand_target, i] = 1\n",
    "            rand_source = np.random.choice(i, size=m_param, p=p_deg_source, replace=False)\n",
    "            A[i, rand_source] = 1\n",
    "        else:\n",
    "            p_deg = np.sum(A, axis=1)[:i]\n",
    "            p_deg /= np.sum(p_deg)\n",
    "            rand_node = np.random.choice(i, size=m_param, p=p_deg, replace=False)\n",
    "            A[i, rand_node] = A[rand_node, i] = 1\n",
    "        print(\"\\nA\")\n",
    "        print(A)\n",
    "        if CN and l_param > 0:\n",
    "            S = A[:i+1,:i+1]\n",
    "            print(\"First S\")\n",
    "            print(S)\n",
    "            cn_mat = S @ S\n",
    "            print(\"cn_mat\")\n",
    "            print(cn_mat)\n",
    "            S[np.eye(S.shape[0], dtype=bool)] = -1\n",
    "            print(\"Second S\")\n",
    "            print(S)\n",
    "            missing = np.nonzero(S==0)\n",
    "            print(\"missing:\", missing, \"and missing[0].size/2:\", missing[0].size/2)\n",
    "            if missing[0].size/2 >= l_param:\n",
    "                print(\"FIRST if\")\n",
    "                p_cn = cn_mat[missing]\n",
    "                p_cn /= np.sum(p_cn)\n",
    "                print(\"p_cn\", p_cn)\n",
    "                if np.isnan(p_cn).all():\n",
    "                    print(\"SECOND if\")\n",
    "                    rand_edge = np.random.choice(missing[0].size, size=l_param)\n",
    "                    print(\"rand_edge\", rand_edge)\n",
    "                else:\n",
    "                    print(\"SECOND else\")\n",
    "                    rand_edge = np.random.choice(missing[0].size, size=l_param, p=p_cn)\n",
    "                    print(\"rand_edge\", rand_edge)\n",
    "                a = missing[0][rand_edge]\n",
    "                print(\"a\", a)\n",
    "                b = missing[1][rand_edge]\n",
    "                print(\"b\", b)\n",
    "                A[a,b] = 1\n",
    "                print(\"A\")\n",
    "                print(A)\n",
    "                S[np.eye(S.shape[0], dtype=bool)] = 0\n",
    "                print(\"Third S\")\n",
    "                print(S)\n",
    "            S[np.eye(S.shape[0], dtype=bool)] = 0\n",
    "            print(\"Fourth S\")\n",
    "            print(S)\n",
    "    end = time.time()\n",
    "    #print('Elapsed time:', end - start, 'seconds')\n",
    "    return A"
   ]
  },
  {
   "cell_type": "code",
   "execution_count": 8,
   "metadata": {
    "nbpresent": {
     "id": "2b379689-969b-4a0a-bc93-2e69bbbfed84"
    }
   },
   "outputs": [
    {
     "data": {
      "text/plain": [
       "array([[0., 1., 1., 0., 0.],\n",
       "       [1., 0., 1., 0., 0.],\n",
       "       [1., 1., 0., 0., 0.],\n",
       "       [0., 0., 0., 0., 0.],\n",
       "       [0., 0., 0., 0., 0.]])"
      ]
     },
     "execution_count": 8,
     "metadata": {},
     "output_type": "execute_result"
    }
   ],
   "source": [
    "final_nodes = 5\n",
    "init_nodes = 3\n",
    "AA = np.zeros((final_nodes, final_nodes)) \n",
    "for i in range(init_nodes):\n",
    "    for j in range(i+1, init_nodes):\n",
    "        AA[i,j] = 1\n",
    "        AA[j,i] = 1\n",
    "AA"
   ]
  },
  {
   "cell_type": "code",
   "execution_count": 13,
   "metadata": {
    "nbpresent": {
     "id": "2d20f92b-74c3-461a-89ea-91c69b96f68a"
    },
    "scrolled": false
   },
   "outputs": [
    {
     "name": "stdout",
     "output_type": "stream",
     "text": [
      "\n",
      "A\n",
      "[[0. 1. 1. 0. 0. 0.]\n",
      " [1. 0. 1. 0. 0. 0.]\n",
      " [1. 1. 0. 1. 0. 0.]\n",
      " [0. 0. 1. 0. 0. 0.]\n",
      " [0. 0. 0. 0. 0. 0.]\n",
      " [0. 0. 0. 0. 0. 0.]]\n",
      "First S\n",
      "[[0. 1. 1. 0.]\n",
      " [1. 0. 1. 0.]\n",
      " [1. 1. 0. 1.]\n",
      " [0. 0. 1. 0.]]\n",
      "cn_mat\n",
      "[[2. 1. 1. 1.]\n",
      " [1. 2. 1. 1.]\n",
      " [1. 1. 3. 0.]\n",
      " [1. 1. 0. 1.]]\n",
      "Second S\n",
      "[[-1.  1.  1.  0.]\n",
      " [ 1. -1.  1.  0.]\n",
      " [ 1.  1. -1.  1.]\n",
      " [ 0.  0.  1. -1.]]\n",
      "missing: (array([0, 1, 3, 3]), array([3, 3, 0, 1])) and missing[0].size/2: 2.0\n",
      "FIRST if\n",
      "p_cn [0.25 0.25 0.25 0.25]\n",
      "SECOND else\n",
      "rand_edge [3 2]\n",
      "a [3 3]\n",
      "b [1 0]\n",
      "A\n",
      "[[-1.  1.  1.  0.  0.  0.]\n",
      " [ 1. -1.  1.  0.  0.  0.]\n",
      " [ 1.  1. -1.  1.  0.  0.]\n",
      " [ 1.  1.  1. -1.  0.  0.]\n",
      " [ 0.  0.  0.  0.  0.  0.]\n",
      " [ 0.  0.  0.  0.  0.  0.]]\n",
      "Third S\n",
      "[[0. 1. 1. 0.]\n",
      " [1. 0. 1. 0.]\n",
      " [1. 1. 0. 1.]\n",
      " [1. 1. 1. 0.]]\n",
      "Fourth S\n",
      "[[0. 1. 1. 0.]\n",
      " [1. 0. 1. 0.]\n",
      " [1. 1. 0. 1.]\n",
      " [1. 1. 1. 0.]]\n",
      "\n",
      "A\n",
      "[[0. 1. 1. 0. 0. 0.]\n",
      " [1. 0. 1. 0. 0. 0.]\n",
      " [1. 1. 0. 1. 0. 0.]\n",
      " [1. 1. 1. 0. 1. 0.]\n",
      " [0. 0. 0. 1. 0. 0.]\n",
      " [0. 0. 0. 0. 0. 0.]]\n",
      "First S\n",
      "[[0. 1. 1. 0. 0.]\n",
      " [1. 0. 1. 0. 0.]\n",
      " [1. 1. 0. 1. 0.]\n",
      " [1. 1. 1. 0. 1.]\n",
      " [0. 0. 0. 1. 0.]]\n",
      "cn_mat\n",
      "[[2. 1. 1. 1. 0.]\n",
      " [1. 2. 1. 1. 0.]\n",
      " [2. 2. 3. 0. 1.]\n",
      " [2. 2. 2. 2. 0.]\n",
      " [1. 1. 1. 0. 1.]]\n",
      "Second S\n",
      "[[-1.  1.  1.  0.  0.]\n",
      " [ 1. -1.  1.  0.  0.]\n",
      " [ 1.  1. -1.  1.  0.]\n",
      " [ 1.  1.  1. -1.  1.]\n",
      " [ 0.  0.  0.  1. -1.]]\n",
      "missing: (array([0, 0, 1, 1, 2, 4, 4, 4]), array([3, 4, 3, 4, 4, 0, 1, 2])) and missing[0].size/2: 4.0\n",
      "FIRST if\n",
      "p_cn [0.16666667 0.         0.16666667 0.         0.16666667 0.16666667\n",
      " 0.16666667 0.16666667]\n",
      "SECOND else\n",
      "rand_edge [4 5]\n",
      "a [2 4]\n",
      "b [4 0]\n",
      "A\n",
      "[[-1.  1.  1.  0.  0.  0.]\n",
      " [ 1. -1.  1.  0.  0.  0.]\n",
      " [ 1.  1. -1.  1.  1.  0.]\n",
      " [ 1.  1.  1. -1.  1.  0.]\n",
      " [ 1.  0.  0.  1. -1.  0.]\n",
      " [ 0.  0.  0.  0.  0.  0.]]\n",
      "Third S\n",
      "[[0. 1. 1. 0. 0.]\n",
      " [1. 0. 1. 0. 0.]\n",
      " [1. 1. 0. 1. 1.]\n",
      " [1. 1. 1. 0. 1.]\n",
      " [1. 0. 0. 1. 0.]]\n",
      "Fourth S\n",
      "[[0. 1. 1. 0. 0.]\n",
      " [1. 0. 1. 0. 0.]\n",
      " [1. 1. 0. 1. 1.]\n",
      " [1. 1. 1. 0. 1.]\n",
      " [1. 0. 0. 1. 0.]]\n",
      "\n",
      "A\n",
      "[[0. 1. 1. 0. 0. 0.]\n",
      " [1. 0. 1. 0. 0. 0.]\n",
      " [1. 1. 0. 1. 1. 0.]\n",
      " [1. 1. 1. 0. 1. 1.]\n",
      " [1. 0. 0. 1. 0. 0.]\n",
      " [0. 0. 0. 1. 0. 0.]]\n",
      "First S\n",
      "[[0. 1. 1. 0. 0. 0.]\n",
      " [1. 0. 1. 0. 0. 0.]\n",
      " [1. 1. 0. 1. 1. 0.]\n",
      " [1. 1. 1. 0. 1. 1.]\n",
      " [1. 0. 0. 1. 0. 0.]\n",
      " [0. 0. 0. 1. 0. 0.]]\n",
      "cn_mat\n",
      "[[2. 1. 1. 1. 1. 0.]\n",
      " [1. 2. 1. 1. 1. 0.]\n",
      " [3. 2. 3. 1. 1. 1.]\n",
      " [3. 2. 2. 3. 1. 0.]\n",
      " [1. 2. 2. 0. 1. 1.]\n",
      " [1. 1. 1. 0. 1. 1.]]\n",
      "Second S\n",
      "[[-1.  1.  1.  0.  0.  0.]\n",
      " [ 1. -1.  1.  0.  0.  0.]\n",
      " [ 1.  1. -1.  1.  1.  0.]\n",
      " [ 1.  1.  1. -1.  1.  1.]\n",
      " [ 1.  0.  0.  1. -1.  0.]\n",
      " [ 0.  0.  0.  1.  0. -1.]]\n",
      "missing: (array([0, 0, 0, 1, 1, 1, 2, 4, 4, 4, 5, 5, 5, 5]), array([3, 4, 5, 3, 4, 5, 5, 1, 2, 5, 0, 1, 2, 4])) and missing[0].size/2: 7.0\n",
      "FIRST if\n",
      "p_cn [0.07142857 0.07142857 0.         0.07142857 0.07142857 0.\n",
      " 0.07142857 0.14285714 0.14285714 0.07142857 0.07142857 0.07142857\n",
      " 0.07142857 0.07142857]\n",
      "SECOND else\n",
      "rand_edge [4 0]\n",
      "a [1 0]\n",
      "b [4 3]\n",
      "A\n",
      "[[-1.  1.  1.  1.  0.  0.]\n",
      " [ 1. -1.  1.  0.  1.  0.]\n",
      " [ 1.  1. -1.  1.  1.  0.]\n",
      " [ 1.  1.  1. -1.  1.  1.]\n",
      " [ 1.  0.  0.  1. -1.  0.]\n",
      " [ 0.  0.  0.  1.  0. -1.]]\n",
      "Third S\n",
      "[[0. 1. 1. 1. 0. 0.]\n",
      " [1. 0. 1. 0. 1. 0.]\n",
      " [1. 1. 0. 1. 1. 0.]\n",
      " [1. 1. 1. 0. 1. 1.]\n",
      " [1. 0. 0. 1. 0. 0.]\n",
      " [0. 0. 0. 1. 0. 0.]]\n",
      "Fourth S\n",
      "[[0. 1. 1. 1. 0. 0.]\n",
      " [1. 0. 1. 0. 1. 0.]\n",
      " [1. 1. 0. 1. 1. 0.]\n",
      " [1. 1. 1. 0. 1. 1.]\n",
      " [1. 0. 0. 1. 0. 0.]\n",
      " [0. 0. 0. 1. 0. 0.]]\n"
     ]
    },
    {
     "data": {
      "text/plain": [
       "array([[0., 1., 1., 1., 0., 0.],\n",
       "       [1., 0., 1., 0., 1., 0.],\n",
       "       [1., 1., 0., 1., 1., 0.],\n",
       "       [1., 1., 1., 0., 1., 1.],\n",
       "       [1., 0., 0., 1., 0., 0.],\n",
       "       [0., 0., 0., 1., 0., 0.]])"
      ]
     },
     "execution_count": 13,
     "metadata": {},
     "output_type": "execute_result"
    }
   ],
   "source": [
    "testBACN = BACN(3,6,1,2,CN=True)#,DIR=True)\n",
    "testBACN"
   ]
  },
  {
   "cell_type": "code",
   "execution_count": 6,
   "metadata": {},
   "outputs": [],
   "source": [
    "def cns_number(x, links):\n",
    "    s = links.shape[0]\n",
    "    cn = np.zeros(s)\n",
    "    neighbors = {i:np.argwhere(x[i]) for i in range(x.shape[0])}\n",
    "    for i in range(s):\n",
    "        inter = np.intersect1d(neighbors[links[i,0]], neighbors[links[i,1]])\n",
    "        cn[i] = inter.size\n",
    "    return cn"
   ]
  },
  {
   "cell_type": "code",
   "execution_count": null,
   "metadata": {},
   "outputs": [],
   "source": [
    "cns_number(testBACN, np.array([[0,0], [0,1], [0,2], [0,3], [0,4], [0,5]]))"
   ]
  },
  {
   "cell_type": "code",
   "execution_count": null,
   "metadata": {},
   "outputs": [],
   "source": [
    "def get_links_to_del(x, fraction=0.1, loops=1):\n",
    "    present = np.argwhere(np.triu(x, 1) == 1)\n",
    "    num_to_del = int(present.shape[0] * fraction)\n",
    "    idx_to_del = [np.random.choice(present.shape[0], size=num_to_del, replace=False) for i in range(loops)]\n",
    "    links_to_del = np.array([present[idx] for idx in idx_to_del])\n",
    "    return links_to_del"
   ]
  },
  {
   "cell_type": "code",
   "execution_count": null,
   "metadata": {},
   "outputs": [],
   "source": [
    "def delete_links(x, links_to_del):\n",
    "    \"\"\"Deletes the specified links from an adjacency matrix.\"\"\"\n",
    "    z = np.copy(x)\n",
    "    for link in links_to_del:\n",
    "        z[link[0], link[1]] = 0\n",
    "    return z"
   ]
  },
  {
   "cell_type": "code",
   "execution_count": null,
   "metadata": {},
   "outputs": [],
   "source": [
    "def evaluate_predictions(true, pred, plot=False):\n",
    "    precision, recall, _ = precision_recall_curve(true, pred)\n",
    "    fpr, tpr, _ = roc_curve(true, pred)\n",
    "    aupr = auc(recall, precision)\n",
    "    auroc = auc(fpr, tpr)\n",
    "    if plot:\n",
    "        fig, ax = plt.subplots()\n",
    "        ax.plot(recall, precision, 'go', label='Precision-Recall curve')\n",
    "        ax.plot(fpr, tpr, '.', label='ROC curve')\n",
    "        plt.legend()\n",
    "        plt.show()\n",
    "    return aupr, auroc"
   ]
  },
  {
   "cell_type": "code",
   "execution_count": null,
   "metadata": {},
   "outputs": [],
   "source": [
    "def cross_val_from_notebook(adjacency, links_to_del, loops=1, raw_output=False, verbose=False, plot=False):\n",
    "    if raw_output:\n",
    "        scores_list = []\n",
    "        true_list = []\n",
    "    else:\n",
    "        results = np.zeros((loops, 2))\n",
    "    for i in range(loops):\n",
    "        if verbose:\n",
    "            print('Trial {} of {}'.format(i+1, loops))\n",
    "        x_ = delete_links(adjacency, links_to_del[i])\n",
    "        missing = np.argwhere(x_ == 0)\n",
    "        not_false = adjacency[missing[:,0], missing[:,1]]\n",
    "        scores = cns_number(x_, missing)\n",
    "        if raw_output:\n",
    "            scores_list.append(scores)\n",
    "            true_list.append(not_false)\n",
    "        else:\n",
    "            results[i] = evaluate_predictions(not_false, scores, plot=plot)\n",
    "    if raw_output:\n",
    "        return np.array(true_list).flatten(), np.asarray(scores_list).flatten()\n",
    "    else:\n",
    "        return results"
   ]
  },
  {
   "cell_type": "code",
   "execution_count": null,
   "metadata": {},
   "outputs": [],
   "source": [
    "def running_all_parameters(init_nodes, final_nodes, l, loops=10, CN=False):\n",
    "    fraction = 0.1\n",
    "    raw_output=False\n",
    "    verbose = False\n",
    "    plot = False\n",
    "    areas_under_curves = np.zeros((init_nodes+1, 2))\n",
    "    for m in range(init_nodes+1):\n",
    "        start = time.time()\n",
    "        B = BACN(init_nodes, final_nodes, m, l, CN)\n",
    "        links_to_del = get_links_to_del(B, fraction=fraction, loops=loops)\n",
    "        r1 = cross_val_from_notebook(B, links_to_del)#, loops=loops, raw_output=raw_output, verbose=verbose, plot=plot)\n",
    "        areas_under_curves[m,:] = np.mean(r1, axis=0)\n",
    "        end = time.time()\n",
    "    return areas_under_curves"
   ]
  },
  {
   "cell_type": "code",
   "execution_count": null,
   "metadata": {},
   "outputs": [],
   "source": [
    "def ploting_all_parameters(final, lmax, loops, CN):\n",
    "    for i in range(2, final):\n",
    "        start = time.time()\n",
    "        plt.figure(figsize=(20,3))\n",
    "        for j in range(1, lmax+1):\n",
    "            r_p = running_all_parameters(i, final, j-1, loops, CN)\n",
    "            plt.subplot(1,lmax,j)\n",
    "            plt.title(\"Initial:{}, final:{}\\nCN-parm:{}\".format(i, final, j))\n",
    "            plt.xlabel(\"m parameter\")\n",
    "            plt.plot(r_p[:,0], 'bx--', label='AUPR')\n",
    "            plt.plot(r_p[:,1], 'ro--', label='AUROC')\n",
    "            plt.legend()\n",
    "        plt.show()\n",
    "        end = time.time()"
   ]
  },
  {
   "cell_type": "code",
   "execution_count": null,
   "metadata": {
    "nbpresent": {
     "id": "5f9d9a94-334c-4658-98a9-a668c1f81bd1"
    },
    "scrolled": false
   },
   "outputs": [],
   "source": [
    "ploting_all_parameters(final=10, lmax=6, loops=1, CN=True)"
   ]
  },
  {
   "cell_type": "code",
   "execution_count": null,
   "metadata": {},
   "outputs": [],
   "source": []
  },
  {
   "cell_type": "code",
   "execution_count": null,
   "metadata": {},
   "outputs": [],
   "source": []
  }
 ],
 "metadata": {
  "anaconda-cloud": {},
  "kernelspec": {
   "display_name": "Python 3",
   "language": "python",
   "name": "python3"
  },
  "language_info": {
   "codemirror_mode": {
    "name": "ipython",
    "version": 3
   },
   "file_extension": ".py",
   "mimetype": "text/x-python",
   "name": "python",
   "nbconvert_exporter": "python",
   "pygments_lexer": "ipython3",
   "version": "3.6.8"
  }
 },
 "nbformat": 4,
 "nbformat_minor": 2
}
