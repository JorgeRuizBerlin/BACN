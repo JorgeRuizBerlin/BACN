{
 "cells": [
  {
   "cell_type": "code",
   "execution_count": 1,
   "metadata": {
    "nbpresent": {
     "id": "b451cd6d-9033-49d7-a2ed-d80fe70be4d8"
    }
   },
   "outputs": [],
   "source": [
    "import numpy as np\n",
    "import matplotlib.pyplot as plt\n",
    "from sklearn.metrics import precision_recall_curve, roc_curve, auc"
   ]
  },
  {
   "cell_type": "code",
   "execution_count": 2,
   "metadata": {},
   "outputs": [],
   "source": [
    "# Command to use the full widht of the screen\n",
    "#from IPython.core.display import display, HTML\n",
    "#display(HTML(\"<style>.container { width:100% !important; }/style>\"))"
   ]
  },
  {
   "cell_type": "code",
   "execution_count": 3,
   "metadata": {},
   "outputs": [],
   "source": [
    "def lcls(x, links):\n",
    "    s = links.shape[0]\n",
    "    lcl = np.zeros(s)\n",
    "    nodes_r = np.unique(links[:,0])\n",
    "    nodes_c = np.unique(links[:,1])\n",
    "    ne_r = dict()\n",
    "    ne_c = dict()\n",
    "    for i in range(x.shape[0]):\n",
    "        if any(i==nodes_r):\n",
    "            ne_c[i] = np.argwhere(x[i,:])\n",
    "    for i in range(x.shape[1]):\n",
    "        if any(i==nodes_c):\n",
    "            ne_r[i] = np.argwhere(x[:,i])\n",
    "    for i in range(s):\n",
    "        n_r = ne_r[links[i,1]].flatten()\n",
    "        n_c = ne_c[links[i,0]].flatten()\n",
    "        if x[links[i,0], links[i,1]]:\n",
    "            n_r = n_r[n_r != links[i,0]]\n",
    "            n_c = n_c[n_c != links[i,1]]\n",
    "        sx = x[n_r][:,n_c]\n",
    "        lcl[i] = np.sum(sx)\n",
    "    return lcl"
   ]
  },
  {
   "cell_type": "code",
   "execution_count": 4,
   "metadata": {},
   "outputs": [],
   "source": [
    "def create_LCL(S, links, l_param):\n",
    "    if links[0].size != 0:\n",
    "        lcl = lcls(S, np.array(links).T)\n",
    "        p_lcl = lcl/np.sum(lcl)\n",
    "        if np.isnan(p_lcl).all():\n",
    "            if l_param < links[0].size:\n",
    "                rand_edge = np.random.choice(links[0].size, size=l_param, replace=False)\n",
    "            else:\n",
    "                rand_edge = range(links[0].size)\n",
    "        else:\n",
    "            if l_param > np.count_nonzero(p_lcl):\n",
    "                rand_edge = np.random.choice(links[0].size, size=np.count_nonzero(p_lcl), p=p_lcl, replace=False)\n",
    "            else:\n",
    "                rand_edge = np.random.choice(links[0].size, size=l_param, p=p_lcl, replace=False)\n",
    "        a = links[0][rand_edge]\n",
    "        b = links[1][rand_edge]\n",
    "        S[a,b] =  1"
   ]
  },
  {
   "cell_type": "code",
   "execution_count": 5,
   "metadata": {},
   "outputs": [],
   "source": [
    "def BALCL(init_nodes_x, final_nodes_x, init_nodes_y, final_nodes_y, m_param_x, m_param_y, l_param, Initial_Connectivity='all-to-all', LCL=True):\n",
    "    assert init_nodes_x > 1\n",
    "    assert init_nodes_y > 1\n",
    "    assert init_nodes_x < final_nodes_x\n",
    "    assert init_nodes_y < final_nodes_y\n",
    "    assert init_nodes_x >= m_param_x\n",
    "    assert init_nodes_y >= m_param_y\n",
    "\n",
    "    #INITIAL NETWORK:\n",
    "    A = np.zeros((final_nodes_x, final_nodes_y))\n",
    "    if Initial_Connectivity == 'all-to-all':\n",
    "        for i in range(init_nodes_x):\n",
    "            for j in range(init_nodes_y):\n",
    "                A[i,j] = 1\n",
    "    elif Initial_Connectivity == 'my_random':\n",
    "        for i in range(init_nodes_x):\n",
    "            for j in range(init_nodes_y):\n",
    "                A[i,j] = int(np.random.random()+0.5)\n",
    "            if not A[i].any() != 0:\n",
    "                #print(\"Empty row:\", i, A[i])\n",
    "                rand_column = np.random.choice(range(init_nodes_y))\n",
    "                A[i, rand_column] = 1\n",
    "        for j in range(init_nodes_y):\n",
    "            if not A[:,j].any() != 0:\n",
    "                #print(\"Empty column:\", j, A[:,j])\n",
    "                rand_row = np.random.choice(range(init_nodes_x))\n",
    "                A[rand_row, j] = 1\n",
    "    #print(\"Initial A\")\n",
    "    #print(A)\n",
    "    \n",
    "    #NETWORK EVOLUTION:\n",
    "    X = np.arange(init_nodes_x, final_nodes_x)\n",
    "    Y = np.arange(init_nodes_y, final_nodes_y)\n",
    "    x = len(X)\n",
    "    y = len(Y)\n",
    "    if x >= y:\n",
    "        c = x/y\n",
    "        for i in range(y):\n",
    "            for j in range(int(c)):\n",
    "                idx = j+i*int(c)\n",
    "                p_deg_target = np.sum(A[:,:Y[i]], axis=0)\n",
    "                p_deg_target /= np.sum(p_deg_target)\n",
    "                rand_target = np.random.choice(Y[i], size=m_param_x, p=p_deg_target, replace=False)\n",
    "                A[X[idx], rand_target] = 1\n",
    "                if LCL:\n",
    "                    S = A[:X[idx]+1, :Y[i]]\n",
    "                    missing = np.nonzero(S==0)\n",
    "                    create_LCL(S, missing, l_param)\n",
    "            p_deg_source = np.sum(A[:X[idx]+1,:], axis=1)\n",
    "            p_deg_source /= np.sum(p_deg_source)\n",
    "            rand_source = np.random.choice(X[idx]+1, size=m_param_y, p=p_deg_source, replace=False)\n",
    "            A[rand_source, Y[i]] = 1\n",
    "            if LCL:\n",
    "                S = A[:X[idx]+1, :Y[i]+1]\n",
    "                missing = np.nonzero(S==0)\n",
    "                create_LCL(S, missing, l_param)\n",
    "        for k in range(idx+1, len(X)):\n",
    "            p_deg_target = np.sum(A[:,:Y[i]], axis=0)\n",
    "            p_deg_target /= np.sum(p_deg_target)\n",
    "            rand_target = np.random.choice(Y[i], size=m_param_x, p=p_deg_target, replace=False)\n",
    "            A[X[k], rand_target] = 1\n",
    "            if LCL:\n",
    "                S = A[:X[k]+1, :Y[i]+1]\n",
    "                missing = np.nonzero(S==0)\n",
    "                create_LCL(S, missing, l_param)\n",
    "    else:\n",
    "        c = y/x\n",
    "        for i in range(x):\n",
    "            for j in range(int(c)):\n",
    "                idx = j+i*int(c)\n",
    "                p_deg_source = np.sum(A[:X[i],:], axis=1)\n",
    "                p_deg_source /= np.sum(p_deg_source)\n",
    "                rand_source = np.random.choice(X[i], size=m_param_y, p=p_deg_source, replace=False)\n",
    "                A[rand_source, Y[idx]] = 1\n",
    "                if LCL:\n",
    "                    S = A[:X[i], :Y[idx]+1]\n",
    "                    missing = np.nonzero(S==0)\n",
    "                    create_LCL(S, missing, l_param)\n",
    "            p_deg_target = np.sum(A[:,:Y[idx]+1], axis=0)\n",
    "            p_deg_target /= np.sum(p_deg_target)\n",
    "            rand_target = np.random.choice(Y[idx]+1, size=m_param_x, p=p_deg_target, replace=False)\n",
    "            A[X[i], rand_target] = 1\n",
    "            if LCL:\n",
    "                S = A[:X[i]+1, :Y[idx]+1]\n",
    "                missing = np.nonzero(S==0)\n",
    "                create_LCL(S, missing, l_param)\n",
    "        for k in range(idx+1, len(Y)):\n",
    "            p_deg_source = np.sum(A[:X[i],:], axis=1)\n",
    "            p_deg_source /= np.sum(p_deg_source)\n",
    "            rand_source = np.random.choice(X[i], size=m_param_y, p=p_deg_source, replace=False)\n",
    "            A[rand_source, Y[k]] = 1\n",
    "            if LCL:\n",
    "                S = A[:X[i]+1, :Y[k]+1]\n",
    "                missing = np.nonzero(S==0)\n",
    "                create_LCL(S, missing, l_param)\n",
    "\n",
    "    return A"
   ]
  },
  {
   "cell_type": "code",
   "execution_count": 6,
   "metadata": {
    "scrolled": false
   },
   "outputs": [
    {
     "data": {
      "text/plain": [
       "array([[1., 1., 1., 1., 1., 1., 0., 0., 0., 1., 1., 0., 0., 0., 0., 0.],\n",
       "       [1., 1., 1., 1., 1., 1., 0., 1., 0., 1., 0., 0., 0., 0., 0., 1.],\n",
       "       [1., 1., 1., 1., 1., 1., 1., 1., 1., 1., 0., 0., 1., 0., 1., 0.],\n",
       "       [1., 1., 1., 1., 1., 1., 0., 1., 0., 1., 0., 0., 0., 0., 0., 0.],\n",
       "       [1., 1., 1., 1., 1., 1., 0., 1., 0., 1., 0., 0., 0., 0., 0., 1.],\n",
       "       [1., 1., 1., 1., 1., 0., 0., 1., 1., 0., 0., 1., 0., 0., 0., 0.],\n",
       "       [1., 1., 1., 1., 1., 1., 1., 0., 0., 0., 0., 0., 0., 0., 0., 0.],\n",
       "       [1., 1., 1., 1., 1., 0., 1., 1., 1., 1., 0., 0., 0., 0., 0., 0.],\n",
       "       [0., 1., 0., 1., 1., 1., 1., 0., 0., 0., 0., 0., 0., 1., 0., 0.],\n",
       "       [1., 1., 1., 1., 0., 1., 0., 1., 0., 0., 0., 0., 0., 0., 0., 0.],\n",
       "       [0., 1., 0., 1., 0., 0., 0., 0., 0., 0., 0., 0., 0., 1., 0., 0.],\n",
       "       [0., 1., 0., 1., 0., 0., 0., 0., 0., 1., 0., 0., 0., 0., 0., 0.],\n",
       "       [0., 0., 0., 0., 1., 0., 0., 0., 0., 0., 0., 0., 0., 0., 0., 0.],\n",
       "       [0., 0., 1., 0., 0., 0., 0., 0., 0., 0., 0., 0., 0., 0., 0., 0.],\n",
       "       [1., 1., 0., 1., 0., 0., 0., 0., 0., 0., 0., 0., 0., 0., 0., 0.],\n",
       "       [0., 0., 0., 0., 0., 0., 0., 0., 0., 1., 0., 0., 0., 0., 0., 0.],\n",
       "       [0., 0., 0., 0., 0., 0., 0., 0., 1., 0., 0., 0., 0., 0., 0., 0.],\n",
       "       [0., 0., 0., 1., 0., 0., 0., 0., 0., 0., 0., 0., 0., 0., 0., 0.],\n",
       "       [0., 0., 0., 0., 0., 0., 1., 0., 0., 0., 0., 0., 0., 0., 0., 0.],\n",
       "       [0., 0., 0., 0., 1., 0., 0., 0., 0., 0., 0., 0., 0., 0., 0., 0.]])"
      ]
     },
     "execution_count": 6,
     "metadata": {},
     "output_type": "execute_result"
    }
   ],
   "source": [
    "testBALCL = BALCL(3, 20, 2, 16, 1, 1, 2, Initial_Connectivity='all-to-all', LCL=True)\n",
    "testBALCL"
   ]
  },
  {
   "cell_type": "code",
   "execution_count": null,
   "metadata": {},
   "outputs": [],
   "source": []
  }
 ],
 "metadata": {
  "anaconda-cloud": {},
  "kernelspec": {
   "display_name": "Python 3",
   "language": "python",
   "name": "python3"
  },
  "language_info": {
   "codemirror_mode": {
    "name": "ipython",
    "version": 3
   },
   "file_extension": ".py",
   "mimetype": "text/x-python",
   "name": "python",
   "nbconvert_exporter": "python",
   "pygments_lexer": "ipython3",
   "version": "3.6.8"
  }
 },
 "nbformat": 4,
 "nbformat_minor": 2
}
