{
 "cells": [
  {
   "cell_type": "code",
   "execution_count": 1,
   "metadata": {
    "nbpresent": {
     "id": "b451cd6d-9033-49d7-a2ed-d80fe70be4d8"
    }
   },
   "outputs": [],
   "source": [
    "import numpy as np\n",
    "import matplotlib.pyplot as plt\n",
    "from sklearn.metrics import precision_recall_curve, roc_curve, auc"
   ]
  },
  {
   "cell_type": "code",
   "execution_count": 2,
   "metadata": {},
   "outputs": [],
   "source": [
    "# Command to use the full widht of the screen\n",
    "#from IPython.core.display import display, HTML\n",
    "#display(HTML(\"<style>.container { width:100% !important; }/style>\"))"
   ]
  },
  {
   "cell_type": "code",
   "execution_count": 3,
   "metadata": {},
   "outputs": [],
   "source": [
    "def lcls(x, links):\n",
    "    s = links.shape[0]\n",
    "    lcl = np.zeros(s)\n",
    "    nodes_r = np.unique(links[:,0])\n",
    "    nodes_c = np.unique(links[:,1])\n",
    "    ne_r = dict()\n",
    "    ne_c = dict()\n",
    "    for i in range(x.shape[0]):\n",
    "        if any(i==nodes_r):\n",
    "            ne_c[i] = np.argwhere(x[i,:])\n",
    "    for i in range(x.shape[1]):\n",
    "        if any(i==nodes_c):\n",
    "            ne_r[i] = np.argwhere(x[:,i])\n",
    "    for i in range(s):\n",
    "        n_r = ne_r[links[i,1]].flatten()\n",
    "        n_c = ne_c[links[i,0]].flatten()\n",
    "        if x[links[i,0], links[i,1]]:\n",
    "            n_r = n_r[n_r != links[i,0]]\n",
    "            n_c = n_c[n_c != links[i,1]]\n",
    "        sx = x[n_r][:,n_c]\n",
    "        lcl[i] = np.sum(sx)\n",
    "    return lcl"
   ]
  },
  {
   "cell_type": "code",
   "execution_count": 4,
   "metadata": {},
   "outputs": [],
   "source": [
    "def create_LCL(S, links, l_param):\n",
    "    if links[0].size != 0:\n",
    "        lcl = lcls(S, np.array(links).T)\n",
    "        p_lcl = lcl/np.sum(lcl)\n",
    "        if np.isnan(p_lcl).all():\n",
    "            if l_param < links[0].size:\n",
    "                rand_edge = np.random.choice(links[0].size, size=l_param, replace=False)\n",
    "            else:\n",
    "                rand_edge = range(links[0].size)\n",
    "        else:\n",
    "            if l_param > np.count_nonzero(p_lcl):\n",
    "                rand_edge = np.random.choice(links[0].size, size=np.count_nonzero(p_lcl), p=p_lcl, replace=False)\n",
    "            else:\n",
    "                rand_edge = np.random.choice(links[0].size, size=l_param, p=p_lcl, replace=False)\n",
    "        a = links[0][rand_edge]\n",
    "        b = links[1][rand_edge]\n",
    "        S[a,b] =  1"
   ]
  },
  {
   "cell_type": "code",
   "execution_count": 5,
   "metadata": {},
   "outputs": [],
   "source": [
    "def BALCL(init_nodes_x, final_nodes_x, init_nodes_y, final_nodes_y, m_param_x, m_param_y, l_param, Initial_Connectivity='all-to-all', LCL=True):\n",
    "    assert init_nodes_x > 1\n",
    "    assert init_nodes_y > 1\n",
    "    assert init_nodes_x < final_nodes_x\n",
    "    assert init_nodes_y < final_nodes_y\n",
    "    assert init_nodes_x >= m_param_x\n",
    "    assert init_nodes_y >= m_param_y\n",
    "\n",
    "    #INITIAL NETWORK:\n",
    "    A = np.zeros((final_nodes_x, final_nodes_y))\n",
    "    if Initial_Connectivity == 'all-to-all':\n",
    "        for i in range(init_nodes_x):\n",
    "            for j in range(init_nodes_y):\n",
    "                A[i,j] = 1\n",
    "    elif Initial_Connectivity == 'my_random':\n",
    "        for i in range(init_nodes_x):\n",
    "            for j in range(init_nodes_y):\n",
    "                A[i,j] = int(np.random.random()+0.5)\n",
    "            if not A[i].any() != 0:\n",
    "                #print(\"Empty row:\", i, A[i])\n",
    "                rand_column = np.random.choice(range(init_nodes_y))\n",
    "                A[i, rand_column] = 1\n",
    "        for j in range(init_nodes_y):\n",
    "            if not A[:,j].any() != 0:\n",
    "                #print(\"Empty column:\", j, A[:,j])\n",
    "                rand_row = np.random.choice(range(init_nodes_x))\n",
    "                A[rand_row, j] = 1\n",
    "    \n",
    "    #NETWORK EVOLUTION:\n",
    "    X = np.arange(init_nodes_x, final_nodes_x)\n",
    "    Y = np.arange(init_nodes_y, final_nodes_y)\n",
    "    x = len(X)\n",
    "    y = len(Y)\n",
    "    if x >= y:\n",
    "        c = x/y\n",
    "        for i in range(y):\n",
    "            for j in range(int(c)):\n",
    "                idx = j+i*int(c)\n",
    "                p_deg_target = np.sum(A[:,:Y[i]], axis=0)\n",
    "                p_deg_target /= np.sum(p_deg_target)\n",
    "                rand_target = np.random.choice(Y[i], size=m_param_x, p=p_deg_target, replace=False)\n",
    "                A[X[idx], rand_target] = 1\n",
    "                if LCL:\n",
    "                    S = A[:X[idx]+1, :Y[i]]\n",
    "                    missing = np.nonzero(S==0)\n",
    "                    create_LCL(S, missing, l_param)\n",
    "            p_deg_source = np.sum(A[:X[idx]+1,:], axis=1)\n",
    "            p_deg_source /= np.sum(p_deg_source)\n",
    "            rand_source = np.random.choice(X[idx]+1, size=m_param_y, p=p_deg_source, replace=False)\n",
    "            A[rand_source, Y[i]] = 1\n",
    "            if LCL:\n",
    "                S = A[:X[idx]+1, :Y[i]+1]\n",
    "                missing = np.nonzero(S==0)\n",
    "                create_LCL(S, missing, l_param)\n",
    "        for k in range(idx+1, len(X)):\n",
    "            p_deg_target = np.sum(A[:,:Y[i]], axis=0)\n",
    "            p_deg_target /= np.sum(p_deg_target)\n",
    "            rand_target = np.random.choice(Y[i], size=m_param_x, p=p_deg_target, replace=False)\n",
    "            A[X[k], rand_target] = 1\n",
    "            if LCL:\n",
    "                S = A[:X[k]+1, :Y[i]+1]\n",
    "                missing = np.nonzero(S==0)\n",
    "                create_LCL(S, missing, l_param)\n",
    "    else:\n",
    "        c = y/x\n",
    "        for i in range(x):\n",
    "            for j in range(int(c)):\n",
    "                idx = j+i*int(c)\n",
    "                p_deg_source = np.sum(A[:X[i],:], axis=1)\n",
    "                p_deg_source /= np.sum(p_deg_source)\n",
    "                rand_source = np.random.choice(X[i], size=m_param_y, p=p_deg_source, replace=False)\n",
    "                A[rand_source, Y[idx]] = 1\n",
    "                if LCL:\n",
    "                    S = A[:X[i], :Y[idx]+1]\n",
    "                    missing = np.nonzero(S==0)\n",
    "                    create_LCL(S, missing, l_param)\n",
    "            p_deg_target = np.sum(A[:,:Y[idx]+1], axis=0)\n",
    "            p_deg_target /= np.sum(p_deg_target)\n",
    "            rand_target = np.random.choice(Y[idx]+1, size=m_param_x, p=p_deg_target, replace=False)\n",
    "            A[X[i], rand_target] = 1\n",
    "            if LCL:\n",
    "                S = A[:X[i]+1, :Y[idx]+1]\n",
    "                missing = np.nonzero(S==0)\n",
    "                create_LCL(S, missing, l_param)\n",
    "        for k in range(idx+1, len(Y)):\n",
    "            p_deg_source = np.sum(A[:X[i],:], axis=1)\n",
    "            p_deg_source /= np.sum(p_deg_source)\n",
    "            rand_source = np.random.choice(X[i], size=m_param_y, p=p_deg_source, replace=False)\n",
    "            A[rand_source, Y[k]] = 1\n",
    "            if LCL:\n",
    "                S = A[:X[i]+1, :Y[k]+1]\n",
    "                missing = np.nonzero(S==0)\n",
    "                create_LCL(S, missing, l_param)\n",
    "\n",
    "    return A"
   ]
  },
  {
   "cell_type": "code",
   "execution_count": 6,
   "metadata": {
    "scrolled": false
   },
   "outputs": [
    {
     "data": {
      "text/plain": [
       "array([[1., 1., 1., 1., 1., 1., 1., 0., 0., 0., 1., 0., 0., 0., 1., 0.],\n",
       "       [0., 1., 1., 1., 1., 1., 1., 1., 1., 0., 0., 0., 0., 0., 0., 0.],\n",
       "       [1., 1., 1., 1., 1., 1., 0., 1., 0., 0., 1., 0., 1., 0., 0., 0.],\n",
       "       [1., 1., 1., 1., 0., 1., 1., 1., 0., 1., 1., 0., 0., 0., 0., 0.],\n",
       "       [1., 1., 1., 1., 1., 1., 0., 0., 1., 1., 0., 0., 0., 0., 0., 0.],\n",
       "       [1., 1., 1., 1., 0., 1., 1., 1., 0., 1., 0., 0., 1., 0., 0., 1.],\n",
       "       [1., 1., 0., 1., 1., 1., 0., 0., 0., 1., 0., 1., 0., 1., 0., 0.],\n",
       "       [0., 1., 1., 1., 0., 0., 0., 1., 0., 1., 0., 0., 0., 0., 0., 0.],\n",
       "       [0., 0., 0., 0., 0., 1., 0., 0., 0., 0., 0., 0., 0., 0., 0., 0.],\n",
       "       [1., 0., 0., 0., 0., 0., 1., 0., 0., 0., 0., 0., 1., 0., 0., 0.],\n",
       "       [1., 1., 0., 1., 0., 0., 0., 1., 1., 0., 0., 0., 0., 0., 0., 0.],\n",
       "       [0., 0., 0., 0., 0., 1., 0., 0., 0., 0., 0., 1., 1., 0., 0., 0.],\n",
       "       [0., 0., 0., 0., 0., 0., 0., 0., 0., 1., 0., 0., 0., 0., 0., 0.],\n",
       "       [1., 1., 1., 1., 0., 0., 0., 0., 0., 0., 0., 0., 0., 0., 0., 0.],\n",
       "       [1., 0., 0., 0., 0., 0., 0., 0., 0., 0., 0., 0., 0., 0., 0., 0.],\n",
       "       [0., 1., 0., 0., 0., 1., 0., 0., 0., 0., 0., 0., 0., 0., 0., 0.],\n",
       "       [0., 0., 1., 0., 0., 0., 0., 0., 0., 0., 0., 0., 0., 0., 0., 0.],\n",
       "       [0., 0., 0., 0., 0., 0., 0., 0., 0., 0., 0., 0., 0., 0., 1., 0.],\n",
       "       [0., 0., 0., 0., 0., 0., 1., 0., 0., 0., 0., 0., 0., 0., 0., 0.],\n",
       "       [0., 1., 0., 0., 0., 0., 0., 0., 0., 0., 0., 0., 0., 0., 0., 0.]])"
      ]
     },
     "execution_count": 6,
     "metadata": {},
     "output_type": "execute_result"
    }
   ],
   "source": [
    "testBALCL = BALCL(7, 20, 6, 16, 1, 1, 2, Initial_Connectivity='my_random', LCL=True)\n",
    "testBALCL"
   ]
  },
  {
   "cell_type": "markdown",
   "metadata": {},
   "source": [
    "# Link prediction"
   ]
  },
  {
   "cell_type": "code",
   "execution_count": 7,
   "metadata": {},
   "outputs": [],
   "source": [
    "def get_links_to_del(x, fraction=0.1, loops=1):\n",
    "    present = np.argwhere(x)\n",
    "    num_to_del = int(present.shape[0] * fraction)\n",
    "    idx_to_del = [np.random.choice(present.shape[0], size=num_to_del, replace=False) for i in range(loops)]\n",
    "    links_to_del = np.array([present[idx] for idx in idx_to_del])\n",
    "    return links_to_del"
   ]
  },
  {
   "cell_type": "code",
   "execution_count": 8,
   "metadata": {},
   "outputs": [],
   "source": [
    "def delete_links(x, links_to_del):\n",
    "    \"\"\"Deletes the specified links from an adjacency matrix.\"\"\"\n",
    "    z = np.copy(x)\n",
    "    for link in links_to_del:\n",
    "        z[link[0], link[1]] = 0\n",
    "    return z"
   ]
  },
  {
   "cell_type": "code",
   "execution_count": 9,
   "metadata": {},
   "outputs": [],
   "source": [
    "def evaluate_predictions(true, pred, plot=False):\n",
    "    precision, recall, _ = precision_recall_curve(true, pred)\n",
    "    fpr, tpr, _ = roc_curve(true, pred)\n",
    "    aupr = auc(recall, precision)\n",
    "    auroc = auc(fpr, tpr)\n",
    "    if plot:\n",
    "        fig, ax = plt.subplots()\n",
    "        ax.plot(recall, precision, 'go', label='Precision-Recall curve')\n",
    "        ax.plot(fpr, tpr, '.', label='ROC curve')\n",
    "        plt.legend()\n",
    "        plt.show()\n",
    "    return aupr, auroc"
   ]
  },
  {
   "cell_type": "code",
   "execution_count": 10,
   "metadata": {},
   "outputs": [],
   "source": [
    "def cross_val_from_notebook(adjacency, links_to_del, loops=1, raw_output=False, verbose=False):\n",
    "    if raw_output:\n",
    "        scores_list = []\n",
    "        true_list = []\n",
    "    else:\n",
    "        results = np.zeros((loops, 2))\n",
    "    for i in range(loops):\n",
    "        if verbose:\n",
    "            print('Trial {} of {}'.format(i+1, loops))\n",
    "        x_ = delete_links(adjacency, links_to_del[i])\n",
    "        missing = np.argwhere(x_ == 0)\n",
    "        if verbose:\n",
    "            print(\"missing\", missing, missing.shape[0])\n",
    "        if missing.shape[0] > 0:\n",
    "            true_present = adjacency[missing[:,0], missing[:,1]]\n",
    "            scores = lcls(x_, missing)\n",
    "            if verbose:#true_present.any():\n",
    "                print(\"adjacency\")\n",
    "                print(adjacency)\n",
    "                print(\"x_\")\n",
    "                print(x_)\n",
    "                print(\"missing:\")\n",
    "                print(missing, missing.shape[0])\n",
    "                print(\"true_present\", true_present)\n",
    "                print(\"scores\", scores)\n",
    "            if raw_output:\n",
    "                true_list.append(true_present)\n",
    "                scores_list.append(scores)\n",
    "            else:\n",
    "                results[i] = evaluate_predictions(true_present, scores)#, plot=plot)\n",
    "                #if not np.isnan(results[i]).any():\n",
    "                #    print(\"results[i]\", results[i])\n",
    "        else:\n",
    "            if verbose:\n",
    "                print(\"WTF?\")\n",
    "            break\n",
    "    if raw_output:\n",
    "        return np.array(true_list).flatten(), np.asarray(scores_list).flatten()\n",
    "    else:\n",
    "        if verbose:\n",
    "            print(\"results\")\n",
    "            print(results)\n",
    "        return results"
   ]
  },
  {
   "cell_type": "code",
   "execution_count": 11,
   "metadata": {},
   "outputs": [],
   "source": [
    "def running_all_parameters(init_nodes_x, final_nodes_x, init_nodes_y, final_nodes_y, l, fraction, loops, Initial_Connectivity, LCL):\n",
    "    areas_under_curves = np.zeros((init_nodes_x, init_nodes_y, 2))\n",
    "    for m_param_x in range(init_nodes_x):#+1):\n",
    "        for m_param_y in range(init_nodes_y):#+1):\n",
    "            B = BALCL(init_nodes_x, final_nodes_x, init_nodes_y, final_nodes_y, m_param_x, m_param_y, l, Initial_Connectivity, LCL)\n",
    "            links_to_del = get_links_to_del(B, fraction, loops)\n",
    "            r1 = cross_val_from_notebook(B, links_to_del, loops)\n",
    "            areas_under_curves[m_param_x, m_param_y,:] = np.mean(r1, axis=0)\n",
    "    return areas_under_curves"
   ]
  },
  {
   "cell_type": "code",
   "execution_count": 12,
   "metadata": {
    "scrolled": false
   },
   "outputs": [
    {
     "name": "stderr",
     "output_type": "stream",
     "text": [
      "/home/jorge/anaconda2/envs/newenviroment/lib/python3.6/site-packages/ipykernel_launcher.py:4: RuntimeWarning: invalid value encountered in true_divide\n",
      "  after removing the cwd from sys.path.\n"
     ]
    }
   ],
   "source": [
    "testRAP = running_all_parameters(5, 32, 4, 28, 2, fraction=0.1, loops=5, Initial_Connectivity='my_random', LCL=True)"
   ]
  },
  {
   "cell_type": "code",
   "execution_count": 13,
   "metadata": {},
   "outputs": [
    {
     "data": {
      "text/plain": [
       "array([[[0.92486937, 0.9988087 ],\n",
       "        [0.95244039, 0.99932097],\n",
       "        [0.97928737, 0.99218275],\n",
       "        [0.82289703, 0.9965902 ]],\n",
       "\n",
       "       [[0.83466412, 0.98203058],\n",
       "        [0.43675167, 0.84350239],\n",
       "        [0.28501789, 0.83010372],\n",
       "        [0.36715991, 0.84294056]],\n",
       "\n",
       "       [[0.61068755, 0.99059939],\n",
       "        [0.22755726, 0.81135381],\n",
       "        [0.34300683, 0.79348739],\n",
       "        [0.23068266, 0.76132549]],\n",
       "\n",
       "       [[0.94267022, 0.99891561],\n",
       "        [0.32482165, 0.822454  ],\n",
       "        [0.234961  , 0.73769142],\n",
       "        [0.23000564, 0.76137948]],\n",
       "\n",
       "       [[0.51753237, 0.9779042 ],\n",
       "        [0.34815082, 0.87247184],\n",
       "        [0.35172607, 0.82774115],\n",
       "        [0.26856666, 0.76525419]]])"
      ]
     },
     "execution_count": 13,
     "metadata": {},
     "output_type": "execute_result"
    }
   ],
   "source": [
    "testRAP"
   ]
  },
  {
   "cell_type": "code",
   "execution_count": 14,
   "metadata": {},
   "outputs": [
    {
     "data": {
      "text/plain": [
       "(5, 4, 2)"
      ]
     },
     "execution_count": 14,
     "metadata": {},
     "output_type": "execute_result"
    }
   ],
   "source": [
    "testRAP.shape"
   ]
  },
  {
   "cell_type": "code",
   "execution_count": null,
   "metadata": {},
   "outputs": [],
   "source": []
  }
 ],
 "metadata": {
  "anaconda-cloud": {},
  "kernelspec": {
   "display_name": "Python 3",
   "language": "python",
   "name": "python3"
  },
  "language_info": {
   "codemirror_mode": {
    "name": "ipython",
    "version": 3
   },
   "file_extension": ".py",
   "mimetype": "text/x-python",
   "name": "python",
   "nbconvert_exporter": "python",
   "pygments_lexer": "ipython3",
   "version": "3.6.8"
  }
 },
 "nbformat": 4,
 "nbformat_minor": 2
}
